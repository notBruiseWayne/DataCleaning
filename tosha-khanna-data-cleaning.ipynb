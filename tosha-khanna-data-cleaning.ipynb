{
 "cells": [
  {
   "cell_type": "code",
   "execution_count": 1,
   "id": "bc2260f3",
   "metadata": {
    "_cell_guid": "b1076dfc-b9ad-4769-8c92-a6c4dae69d19",
    "_uuid": "8f2839f25d086af736a60e9eeb907d3b93b6e0e5",
    "execution": {
     "iopub.execute_input": "2023-03-28T17:08:35.080903Z",
     "iopub.status.busy": "2023-03-28T17:08:35.080375Z",
     "iopub.status.idle": "2023-03-28T17:08:35.100886Z",
     "shell.execute_reply": "2023-03-28T17:08:35.099678Z"
    },
    "papermill": {
     "duration": 0.031711,
     "end_time": "2023-03-28T17:08:35.104215",
     "exception": false,
     "start_time": "2023-03-28T17:08:35.072504",
     "status": "completed"
    },
    "tags": []
   },
   "outputs": [
    {
     "name": "stdout",
     "output_type": "stream",
     "text": [
      "/kaggle/input/pakistan-toshakhana-files/Refined_TK_data ver 2.csv\n",
      "/kaggle/input/pakistan-toshakhana-files/Toshakhana Files 2.xlsx\n"
     ]
    }
   ],
   "source": [
    "# This Python 3 environment comes with many helpful analytics libraries installed\n",
    "# It is defined by the kaggle/python Docker image: https://github.com/kaggle/docker-python\n",
    "# For example, here's several helpful packages to load\n",
    "\n",
    "import numpy as np # linear algebra\n",
    "import pandas as pd # data processing, CSV file I/O (e.g. pd.read_csv)\n",
    "\n",
    "# Input data files are available in the read-only \"../input/\" directory\n",
    "# For example, running this (by clicking run or pressing Shift+Enter) will list all files under the input directory\n",
    "\n",
    "import os\n",
    "for dirname, _, filenames in os.walk('/kaggle/input'):\n",
    "    for filename in filenames:\n",
    "        print(os.path.join(dirname, filename))\n",
    "\n",
    "# You can write up to 20GB to the current directory (/kaggle/working/) that gets preserved as output when you create a version using \"Save & Run All\" \n",
    "# You can also write temporary files to /kaggle/temp/, but they won't be saved outside of the current session"
   ]
  },
  {
   "cell_type": "code",
   "execution_count": 2,
   "id": "36ffd4af",
   "metadata": {
    "execution": {
     "iopub.execute_input": "2023-03-28T17:08:35.115130Z",
     "iopub.status.busy": "2023-03-28T17:08:35.114863Z",
     "iopub.status.idle": "2023-03-28T17:08:35.169137Z",
     "shell.execute_reply": "2023-03-28T17:08:35.168025Z"
    },
    "papermill": {
     "duration": 0.06184,
     "end_time": "2023-03-28T17:08:35.171175",
     "exception": false,
     "start_time": "2023-03-28T17:08:35.109335",
     "status": "completed"
    },
    "tags": []
   },
   "outputs": [
    {
     "data": {
      "text/html": [
       "<div>\n",
       "<style scoped>\n",
       "    .dataframe tbody tr th:only-of-type {\n",
       "        vertical-align: middle;\n",
       "    }\n",
       "\n",
       "    .dataframe tbody tr th {\n",
       "        vertical-align: top;\n",
       "    }\n",
       "\n",
       "    .dataframe thead th {\n",
       "        text-align: right;\n",
       "    }\n",
       "</style>\n",
       "<table border=\"1\" class=\"dataframe\">\n",
       "  <thead>\n",
       "    <tr style=\"text-align: right;\">\n",
       "      <th></th>\n",
       "      <th>Detail of Gifts</th>\n",
       "      <th>Item Category</th>\n",
       "      <th>Name of Recipient</th>\n",
       "      <th>Affiliation</th>\n",
       "      <th>Date</th>\n",
       "      <th>Assessed Value</th>\n",
       "      <th>Retention Cost</th>\n",
       "      <th>Retained</th>\n",
       "      <th>Remarks</th>\n",
       "    </tr>\n",
       "  </thead>\n",
       "  <tbody>\n",
       "    <tr>\n",
       "      <th>0</th>\n",
       "      <td>Two  small  silver\\nBowls</td>\n",
       "      <td>Decoration Pieces</td>\n",
       "      <td>Mr.  Abdul  Sattar,  Minister  for  Foreign\\nA...</td>\n",
       "      <td>Gen. Musharrafarraf</td>\n",
       "      <td>1/8/2002</td>\n",
       "      <td>5000.0</td>\n",
       "      <td>0.0</td>\n",
       "      <td>Yes</td>\n",
       "      <td>Yes</td>\n",
       "    </tr>\n",
       "    <tr>\n",
       "      <th>1</th>\n",
       "      <td>One Pilot Pen with\\nink</td>\n",
       "      <td>Pen</td>\n",
       "      <td>Mr.  Abdul  Sattar,  Minister  for  Foreign\\nA...</td>\n",
       "      <td>Gen. Musharraf</td>\n",
       "      <td>1/8/2002</td>\n",
       "      <td>3500.0</td>\n",
       "      <td>0.0</td>\n",
       "      <td>Yes</td>\n",
       "      <td>Yes</td>\n",
       "    </tr>\n",
       "    <tr>\n",
       "      <th>2</th>\n",
       "      <td>One silver vase</td>\n",
       "      <td>Decoration Pieces</td>\n",
       "      <td>Mr. Shaukat Aziz, Minister for Finance</td>\n",
       "      <td>Gen. Musharraf</td>\n",
       "      <td>1/9/2002</td>\n",
       "      <td>7500.0</td>\n",
       "      <td>0.0</td>\n",
       "      <td>Yes</td>\n",
       "      <td>Yes</td>\n",
       "    </tr>\n",
       "    <tr>\n",
       "      <th>3</th>\n",
       "      <td>One  (decoration)\\nfolding Screen</td>\n",
       "      <td>Decoration Pieces</td>\n",
       "      <td>Mr.  Abdul Sattar,  Minister  for  Foreign\\nAf...</td>\n",
       "      <td>Gen. Musharraf</td>\n",
       "      <td>1/15/2002</td>\n",
       "      <td>2200.0</td>\n",
       "      <td>0.0</td>\n",
       "      <td>Yes</td>\n",
       "      <td>Yes</td>\n",
       "    </tr>\n",
       "    <tr>\n",
       "      <th>4</th>\n",
       "      <td>One  Decoration\\nPiece</td>\n",
       "      <td>Decoration Pieces</td>\n",
       "      <td>Mr.  Abdul  Sattar,  Minister  for  Foreign\\nA...</td>\n",
       "      <td>Gen. Musharraf</td>\n",
       "      <td>1/22/2002</td>\n",
       "      <td>2000.0</td>\n",
       "      <td>0.0</td>\n",
       "      <td>Yes</td>\n",
       "      <td>Yes</td>\n",
       "    </tr>\n",
       "  </tbody>\n",
       "</table>\n",
       "</div>"
      ],
      "text/plain": [
       "                     Detail of Gifts      Item Category  \\\n",
       "0          Two  small  silver\\nBowls  Decoration Pieces   \n",
       "1            One Pilot Pen with\\nink                Pen   \n",
       "2                    One silver vase  Decoration Pieces   \n",
       "3  One  (decoration)\\nfolding Screen  Decoration Pieces   \n",
       "4             One  Decoration\\nPiece  Decoration Pieces   \n",
       "\n",
       "                                   Name of Recipient          Affiliation  \\\n",
       "0  Mr.  Abdul  Sattar,  Minister  for  Foreign\\nA...  Gen. Musharrafarraf   \n",
       "1  Mr.  Abdul  Sattar,  Minister  for  Foreign\\nA...       Gen. Musharraf   \n",
       "2             Mr. Shaukat Aziz, Minister for Finance       Gen. Musharraf   \n",
       "3  Mr.  Abdul Sattar,  Minister  for  Foreign\\nAf...       Gen. Musharraf   \n",
       "4  Mr.  Abdul  Sattar,  Minister  for  Foreign\\nA...       Gen. Musharraf   \n",
       "\n",
       "        Date  Assessed Value  Retention Cost Retained Remarks  \n",
       "0   1/8/2002          5000.0             0.0      Yes     Yes  \n",
       "1   1/8/2002          3500.0             0.0      Yes     Yes  \n",
       "2   1/9/2002          7500.0             0.0      Yes     Yes  \n",
       "3  1/15/2002          2200.0             0.0      Yes     Yes  \n",
       "4  1/22/2002          2000.0             0.0      Yes     Yes  "
      ]
     },
     "execution_count": 2,
     "metadata": {},
     "output_type": "execute_result"
    }
   ],
   "source": [
    "tosha_df=pd.read_csv(\"/kaggle/input/pakistan-toshakhana-files/Refined_TK_data ver 2.csv\")\n",
    "tosha_df.head()"
   ]
  },
  {
   "cell_type": "code",
   "execution_count": 3,
   "id": "3b37c4c3",
   "metadata": {
    "execution": {
     "iopub.execute_input": "2023-03-28T17:08:35.182611Z",
     "iopub.status.busy": "2023-03-28T17:08:35.182311Z",
     "iopub.status.idle": "2023-03-28T17:08:35.206405Z",
     "shell.execute_reply": "2023-03-28T17:08:35.205262Z"
    },
    "papermill": {
     "duration": 0.033161,
     "end_time": "2023-03-28T17:08:35.209258",
     "exception": false,
     "start_time": "2023-03-28T17:08:35.176097",
     "status": "completed"
    },
    "tags": []
   },
   "outputs": [
    {
     "name": "stdout",
     "output_type": "stream",
     "text": [
      "       Assessed Value  Retention Cost\n",
      "count    4.213000e+03    4.205000e+03\n",
      "mean     3.210531e+05    4.851276e+04\n",
      "std      3.894070e+06    6.184538e+05\n",
      "min      0.000000e+00    0.000000e+00\n",
      "25%      1.700000e+03    0.000000e+00\n",
      "50%      8.000000e+03    0.000000e+00\n",
      "75%      4.000000e+04    2.250000e+03\n",
      "max      1.400000e+08    2.017800e+07\n",
      "Detail of Gifts      4208\n",
      "Item Category        2338\n",
      "Name of Recipient    4214\n",
      "Affiliation          3207\n",
      "Date                 4211\n",
      "Assessed Value       4213\n",
      "Retention Cost       4205\n",
      "Retained             4203\n",
      "Remarks              4203\n",
      "dtype: int64\n"
     ]
    }
   ],
   "source": [
    "print(tosha_df.describe())\n",
    "print(tosha_df.count())"
   ]
  },
  {
   "cell_type": "markdown",
   "id": "2ef0c6f1",
   "metadata": {
    "papermill": {
     "duration": 0.00493,
     "end_time": "2023-03-28T17:08:35.219553",
     "exception": false,
     "start_time": "2023-03-28T17:08:35.214623",
     "status": "completed"
    },
    "tags": []
   },
   "source": [
    "Droping rows that have null values for the most important features "
   ]
  },
  {
   "cell_type": "code",
   "execution_count": 4,
   "id": "d3406bb5",
   "metadata": {
    "execution": {
     "iopub.execute_input": "2023-03-28T17:08:35.230455Z",
     "iopub.status.busy": "2023-03-28T17:08:35.230151Z",
     "iopub.status.idle": "2023-03-28T17:08:35.239898Z",
     "shell.execute_reply": "2023-03-28T17:08:35.238765Z"
    },
    "papermill": {
     "duration": 0.017802,
     "end_time": "2023-03-28T17:08:35.242096",
     "exception": false,
     "start_time": "2023-03-28T17:08:35.224294",
     "status": "completed"
    },
    "tags": []
   },
   "outputs": [
    {
     "data": {
      "text/plain": [
       "Detail of Gifts         6\n",
       "Item Category        1876\n",
       "Name of Recipient       0\n",
       "Affiliation          1007\n",
       "Date                    3\n",
       "Assessed Value          1\n",
       "Retention Cost          9\n",
       "Retained               11\n",
       "Remarks                11\n",
       "dtype: int64"
      ]
     },
     "execution_count": 4,
     "metadata": {},
     "output_type": "execute_result"
    }
   ],
   "source": [
    "tosha_df.isnull().sum()"
   ]
  },
  {
   "cell_type": "code",
   "execution_count": 5,
   "id": "40681f81",
   "metadata": {
    "_kg_hide-input": false,
    "execution": {
     "iopub.execute_input": "2023-03-28T17:08:35.253795Z",
     "iopub.status.busy": "2023-03-28T17:08:35.253529Z",
     "iopub.status.idle": "2023-03-28T17:08:35.263410Z",
     "shell.execute_reply": "2023-03-28T17:08:35.262441Z"
    },
    "papermill": {
     "duration": 0.01856,
     "end_time": "2023-03-28T17:08:35.265604",
     "exception": false,
     "start_time": "2023-03-28T17:08:35.247044",
     "status": "completed"
    },
    "tags": []
   },
   "outputs": [],
   "source": [
    "tosha_df=tosha_df.dropna(subset=[\"Detail of Gifts\",\"Assessed Value\",\"Retained\"])\n",
    "tosha_df[\"Retention Cost\"]=tosha_df[\"Retention Cost\"].fillna(0.0)\n",
    "#tosha_df.isnull().sum()"
   ]
  },
  {
   "cell_type": "markdown",
   "id": "ff1371dc",
   "metadata": {
    "papermill": {
     "duration": 0.005254,
     "end_time": "2023-03-28T17:08:35.276473",
     "exception": false,
     "start_time": "2023-03-28T17:08:35.271219",
     "status": "completed"
    },
    "tags": []
   },
   "source": [
    "Replacing missing date with ffill"
   ]
  },
  {
   "cell_type": "code",
   "execution_count": 6,
   "id": "c1990a0d",
   "metadata": {
    "execution": {
     "iopub.execute_input": "2023-03-28T17:08:35.288665Z",
     "iopub.status.busy": "2023-03-28T17:08:35.287753Z",
     "iopub.status.idle": "2023-03-28T17:08:35.293015Z",
     "shell.execute_reply": "2023-03-28T17:08:35.292104Z"
    },
    "papermill": {
     "duration": 0.013012,
     "end_time": "2023-03-28T17:08:35.295035",
     "exception": false,
     "start_time": "2023-03-28T17:08:35.282023",
     "status": "completed"
    },
    "tags": []
   },
   "outputs": [],
   "source": [
    "tosha_df[\"Date\"].replace(\"NaN\",np.nan,inplace=True)\n",
    "\n",
    "#print(tosha_df.isnull().sum())\n",
    "#print(tosha_df.count())"
   ]
  },
  {
   "cell_type": "code",
   "execution_count": 7,
   "id": "441a5ab3",
   "metadata": {
    "execution": {
     "iopub.execute_input": "2023-03-28T17:08:35.306588Z",
     "iopub.status.busy": "2023-03-28T17:08:35.305811Z",
     "iopub.status.idle": "2023-03-28T17:08:35.318839Z",
     "shell.execute_reply": "2023-03-28T17:08:35.317523Z"
    },
    "papermill": {
     "duration": 0.021477,
     "end_time": "2023-03-28T17:08:35.321632",
     "exception": false,
     "start_time": "2023-03-28T17:08:35.300155",
     "status": "completed"
    },
    "tags": []
   },
   "outputs": [],
   "source": [
    "tosha_df.loc[tosha_df[\"Date\"].isnull(),\"Date\"]=tosha_df[\"Date\"].ffill()\n",
    "#tosha_df.isnull().sum()"
   ]
  },
  {
   "cell_type": "markdown",
   "id": "8c0cdfde",
   "metadata": {
    "papermill": {
     "duration": 0.006458,
     "end_time": "2023-03-28T17:08:35.335128",
     "exception": false,
     "start_time": "2023-03-28T17:08:35.328670",
     "status": "completed"
    },
    "tags": []
   },
   "source": [
    "Fill null values of affiliation with 'Other/s'"
   ]
  },
  {
   "cell_type": "code",
   "execution_count": 8,
   "id": "3fa61c00",
   "metadata": {
    "execution": {
     "iopub.execute_input": "2023-03-28T17:08:35.350530Z",
     "iopub.status.busy": "2023-03-28T17:08:35.349474Z",
     "iopub.status.idle": "2023-03-28T17:08:35.356026Z",
     "shell.execute_reply": "2023-03-28T17:08:35.354934Z"
    },
    "papermill": {
     "duration": 0.017349,
     "end_time": "2023-03-28T17:08:35.358478",
     "exception": false,
     "start_time": "2023-03-28T17:08:35.341129",
     "status": "completed"
    },
    "tags": []
   },
   "outputs": [],
   "source": [
    "tosha_df[\"Affiliation\"].fillna('Other/s',inplace=True)\n",
    "tosha_df.reset_index(drop=True,inplace=True)\n",
    "#tosha_df.head(10)"
   ]
  },
  {
   "cell_type": "markdown",
   "id": "cf64377a",
   "metadata": {
    "papermill": {
     "duration": 0.004816,
     "end_time": "2023-03-28T17:08:35.368448",
     "exception": false,
     "start_time": "2023-03-28T17:08:35.363632",
     "status": "completed"
    },
    "tags": []
   },
   "source": [
    "Spliting the Name of the recipient and the office that person holds into two columns"
   ]
  },
  {
   "cell_type": "code",
   "execution_count": 9,
   "id": "798f86d4",
   "metadata": {
    "execution": {
     "iopub.execute_input": "2023-03-28T17:08:35.380983Z",
     "iopub.status.busy": "2023-03-28T17:08:35.380683Z",
     "iopub.status.idle": "2023-03-28T17:08:35.396512Z",
     "shell.execute_reply": "2023-03-28T17:08:35.395630Z"
    },
    "papermill": {
     "duration": 0.024528,
     "end_time": "2023-03-28T17:08:35.398874",
     "exception": false,
     "start_time": "2023-03-28T17:08:35.374346",
     "status": "completed"
    },
    "tags": []
   },
   "outputs": [],
   "source": [
    "tosha_df[[\"Recipient\",\"Office\"]]=tosha_df['Name of Recipient'].str.split(',',n=1,expand=True)\n",
    "tosha_df.drop('Name of Recipient',axis=1,inplace=True)\n",
    "#tosha_df.head(10)"
   ]
  },
  {
   "cell_type": "code",
   "execution_count": 10,
   "id": "4b3feec4",
   "metadata": {
    "execution": {
     "iopub.execute_input": "2023-03-28T17:08:35.410699Z",
     "iopub.status.busy": "2023-03-28T17:08:35.409927Z",
     "iopub.status.idle": "2023-03-28T17:08:35.426886Z",
     "shell.execute_reply": "2023-03-28T17:08:35.425815Z"
    },
    "papermill": {
     "duration": 0.025372,
     "end_time": "2023-03-28T17:08:35.429295",
     "exception": false,
     "start_time": "2023-03-28T17:08:35.403923",
     "status": "completed"
    },
    "tags": []
   },
   "outputs": [
    {
     "data": {
      "text/html": [
       "<div>\n",
       "<style scoped>\n",
       "    .dataframe tbody tr th:only-of-type {\n",
       "        vertical-align: middle;\n",
       "    }\n",
       "\n",
       "    .dataframe tbody tr th {\n",
       "        vertical-align: top;\n",
       "    }\n",
       "\n",
       "    .dataframe thead th {\n",
       "        text-align: right;\n",
       "    }\n",
       "</style>\n",
       "<table border=\"1\" class=\"dataframe\">\n",
       "  <thead>\n",
       "    <tr style=\"text-align: right;\">\n",
       "      <th></th>\n",
       "      <th>Detail of Gifts</th>\n",
       "      <th>Item Category</th>\n",
       "      <th>Affiliation</th>\n",
       "      <th>Date</th>\n",
       "      <th>Assessed Value</th>\n",
       "      <th>Retention Cost</th>\n",
       "      <th>Retained</th>\n",
       "      <th>Remarks</th>\n",
       "      <th>Recipient</th>\n",
       "      <th>Office</th>\n",
       "    </tr>\n",
       "  </thead>\n",
       "  <tbody>\n",
       "    <tr>\n",
       "      <th>22</th>\n",
       "      <td>One  metallic\\nvase</td>\n",
       "      <td>Decoration Pieces</td>\n",
       "      <td>Gen. Musharraf</td>\n",
       "      <td>2/19/2002</td>\n",
       "      <td>850.0</td>\n",
       "      <td>0.0</td>\n",
       "      <td>Yes</td>\n",
       "      <td>Yes</td>\n",
       "      <td>Minister  for  Petroleum  &amp;  Natural\\nResources</td>\n",
       "      <td>None</td>\n",
       "    </tr>\n",
       "    <tr>\n",
       "      <th>23</th>\n",
       "      <td>One  cufflinks\\nInsignia on it</td>\n",
       "      <td>Jewellery/Accessories</td>\n",
       "      <td>Gen. Musharraf</td>\n",
       "      <td>2/19/2002</td>\n",
       "      <td>0.0</td>\n",
       "      <td>0.0</td>\n",
       "      <td>Yes</td>\n",
       "      <td>Yes</td>\n",
       "      <td>Minister  for Petroleum  &amp;  Natural\\nResources</td>\n",
       "      <td>None</td>\n",
       "    </tr>\n",
       "    <tr>\n",
       "      <th>47</th>\n",
       "      <td>One  small\\nwooden box with\\nsix  packets  of\\...</td>\n",
       "      <td>Food</td>\n",
       "      <td>Gen. Musharraf</td>\n",
       "      <td>3/22/2002</td>\n",
       "      <td>0.0</td>\n",
       "      <td>0.0</td>\n",
       "      <td>Yes</td>\n",
       "      <td>Yes</td>\n",
       "      <td>Minister  for  Information  &amp;  Media\\nDevelopment</td>\n",
       "      <td>None</td>\n",
       "    </tr>\n",
       "    <tr>\n",
       "      <th>49</th>\n",
       "      <td>One tea set</td>\n",
       "      <td>Crockery</td>\n",
       "      <td>Gen. Musharraf</td>\n",
       "      <td>3/27/2002</td>\n",
       "      <td>4000.0</td>\n",
       "      <td>0.0</td>\n",
       "      <td>Yes</td>\n",
       "      <td>Yes</td>\n",
       "      <td>Foreign Secretary</td>\n",
       "      <td>None</td>\n",
       "    </tr>\n",
       "    <tr>\n",
       "      <th>58</th>\n",
       "      <td>One  Cassette\\nRecorder</td>\n",
       "      <td>Tech</td>\n",
       "      <td>Gen. Musharraf</td>\n",
       "      <td>4/1/2002</td>\n",
       "      <td>2500.0</td>\n",
       "      <td>0.0</td>\n",
       "      <td>Yes</td>\n",
       "      <td>Yes</td>\n",
       "      <td>Minister  Petroleum  &amp;  Natural\\nResources</td>\n",
       "      <td>None</td>\n",
       "    </tr>\n",
       "    <tr>\n",
       "      <th>81</th>\n",
       "      <td>Jewellery box</td>\n",
       "      <td>Jewellery/Accessories</td>\n",
       "      <td>Military</td>\n",
       "      <td>4/9/2002</td>\n",
       "      <td>400.0</td>\n",
       "      <td>0.0</td>\n",
       "      <td>Yes</td>\n",
       "      <td>Yes</td>\n",
       "      <td>L/NK M. Aslam</td>\n",
       "      <td>None</td>\n",
       "    </tr>\n",
       "    <tr>\n",
       "      <th>82</th>\n",
       "      <td>Jewellery box</td>\n",
       "      <td>Jewellery/Accessories</td>\n",
       "      <td>Military</td>\n",
       "      <td>4/9/2002</td>\n",
       "      <td>400.0</td>\n",
       "      <td>0.0</td>\n",
       "      <td>Yes</td>\n",
       "      <td>Yes</td>\n",
       "      <td>L/NK M. Yousaf</td>\n",
       "      <td>None</td>\n",
       "    </tr>\n",
       "    <tr>\n",
       "      <th>83</th>\n",
       "      <td>Jewellery box</td>\n",
       "      <td>Jewellery/Accessories</td>\n",
       "      <td>Military</td>\n",
       "      <td>4/9/2002</td>\n",
       "      <td>400.0</td>\n",
       "      <td>0.0</td>\n",
       "      <td>Yes</td>\n",
       "      <td>Yes</td>\n",
       "      <td>L/ NK Daud Rehman</td>\n",
       "      <td>None</td>\n",
       "    </tr>\n",
       "    <tr>\n",
       "      <th>84</th>\n",
       "      <td>Jewellery box</td>\n",
       "      <td>Jewellery/Accessories</td>\n",
       "      <td>Military</td>\n",
       "      <td>4/9/2002</td>\n",
       "      <td>400.0</td>\n",
       "      <td>0.0</td>\n",
       "      <td>Yes</td>\n",
       "      <td>Yes</td>\n",
       "      <td>L/NK Muhammad Asghar</td>\n",
       "      <td>None</td>\n",
       "    </tr>\n",
       "    <tr>\n",
       "      <th>88</th>\n",
       "      <td>One  Blue  Onyx\\nBowl</td>\n",
       "      <td>Decoration Pieces</td>\n",
       "      <td>Gen. Musharraf</td>\n",
       "      <td>4/10/2002</td>\n",
       "      <td>500.0</td>\n",
       "      <td>0.0</td>\n",
       "      <td>Retained.</td>\n",
       "      <td>Retained.</td>\n",
       "      <td>Minister  for  Information  &amp;  Media\\nDevelopment</td>\n",
       "      <td>None</td>\n",
       "    </tr>\n",
       "  </tbody>\n",
       "</table>\n",
       "</div>"
      ],
      "text/plain": [
       "                                      Detail of Gifts          Item Category  \\\n",
       "22                                One  metallic\\nvase      Decoration Pieces   \n",
       "23                     One  cufflinks\\nInsignia on it  Jewellery/Accessories   \n",
       "47  One  small\\nwooden box with\\nsix  packets  of\\...                   Food   \n",
       "49                                        One tea set               Crockery   \n",
       "58                            One  Cassette\\nRecorder                   Tech   \n",
       "81                                      Jewellery box  Jewellery/Accessories   \n",
       "82                                      Jewellery box  Jewellery/Accessories   \n",
       "83                                      Jewellery box  Jewellery/Accessories   \n",
       "84                                      Jewellery box  Jewellery/Accessories   \n",
       "88                              One  Blue  Onyx\\nBowl      Decoration Pieces   \n",
       "\n",
       "       Affiliation       Date  Assessed Value  Retention Cost   Retained  \\\n",
       "22  Gen. Musharraf  2/19/2002           850.0             0.0        Yes   \n",
       "23  Gen. Musharraf  2/19/2002             0.0             0.0        Yes   \n",
       "47  Gen. Musharraf  3/22/2002             0.0             0.0        Yes   \n",
       "49  Gen. Musharraf  3/27/2002          4000.0             0.0        Yes   \n",
       "58  Gen. Musharraf   4/1/2002          2500.0             0.0        Yes   \n",
       "81        Military   4/9/2002           400.0             0.0        Yes   \n",
       "82        Military   4/9/2002           400.0             0.0        Yes   \n",
       "83        Military   4/9/2002           400.0             0.0        Yes   \n",
       "84        Military   4/9/2002           400.0             0.0        Yes   \n",
       "88  Gen. Musharraf  4/10/2002           500.0             0.0  Retained.   \n",
       "\n",
       "      Remarks                                          Recipient Office  \n",
       "22        Yes    Minister  for  Petroleum  &  Natural\\nResources   None  \n",
       "23        Yes     Minister  for Petroleum  &  Natural\\nResources   None  \n",
       "47        Yes  Minister  for  Information  &  Media\\nDevelopment   None  \n",
       "49        Yes                                  Foreign Secretary   None  \n",
       "58        Yes         Minister  Petroleum  &  Natural\\nResources   None  \n",
       "81        Yes                                      L/NK M. Aslam   None  \n",
       "82        Yes                                     L/NK M. Yousaf   None  \n",
       "83        Yes                                  L/ NK Daud Rehman   None  \n",
       "84        Yes                               L/NK Muhammad Asghar   None  \n",
       "88  Retained.  Minister  for  Information  &  Media\\nDevelopment   None  "
      ]
     },
     "execution_count": 10,
     "metadata": {},
     "output_type": "execute_result"
    }
   ],
   "source": [
    "nulldf=tosha_df[tosha_df['Office'].isnull()].head(10)\n",
    "nulldf.head(10)"
   ]
  },
  {
   "cell_type": "markdown",
   "id": "f3a8212d",
   "metadata": {
    "papermill": {
     "duration": 0.005442,
     "end_time": "2023-03-28T17:08:35.439892",
     "exception": false,
     "start_time": "2023-03-28T17:08:35.434450",
     "status": "completed"
    },
    "tags": []
   },
   "source": [
    "Replacing the null values for the Office with the Recipient name"
   ]
  },
  {
   "cell_type": "code",
   "execution_count": 11,
   "id": "5e7c0a2f",
   "metadata": {
    "execution": {
     "iopub.execute_input": "2023-03-28T17:08:35.452053Z",
     "iopub.status.busy": "2023-03-28T17:08:35.451429Z",
     "iopub.status.idle": "2023-03-28T17:08:35.456787Z",
     "shell.execute_reply": "2023-03-28T17:08:35.455767Z"
    },
    "papermill": {
     "duration": 0.01381,
     "end_time": "2023-03-28T17:08:35.459052",
     "exception": false,
     "start_time": "2023-03-28T17:08:35.445242",
     "status": "completed"
    },
    "tags": []
   },
   "outputs": [],
   "source": [
    "tosha_df['Office']=tosha_df['Office'].fillna(tosha_df['Recipient'])\n",
    "#tosha_df.count()"
   ]
  },
  {
   "cell_type": "markdown",
   "id": "c615b894",
   "metadata": {
    "papermill": {
     "duration": 0.005148,
     "end_time": "2023-03-28T17:08:35.469851",
     "exception": false,
     "start_time": "2023-03-28T17:08:35.464703",
     "status": "completed"
    },
    "tags": []
   },
   "source": [
    "Removing '\\n' in columns of Recipient,Office and Detail of Gifts and removing any white spaces."
   ]
  },
  {
   "cell_type": "code",
   "execution_count": 12,
   "id": "840e06b7",
   "metadata": {
    "execution": {
     "iopub.execute_input": "2023-03-28T17:08:35.482084Z",
     "iopub.status.busy": "2023-03-28T17:08:35.481197Z",
     "iopub.status.idle": "2023-03-28T17:08:35.555623Z",
     "shell.execute_reply": "2023-03-28T17:08:35.554419Z"
    },
    "papermill": {
     "duration": 0.083597,
     "end_time": "2023-03-28T17:08:35.558542",
     "exception": false,
     "start_time": "2023-03-28T17:08:35.474945",
     "status": "completed"
    },
    "tags": []
   },
   "outputs": [
    {
     "data": {
      "text/html": [
       "<div>\n",
       "<style scoped>\n",
       "    .dataframe tbody tr th:only-of-type {\n",
       "        vertical-align: middle;\n",
       "    }\n",
       "\n",
       "    .dataframe tbody tr th {\n",
       "        vertical-align: top;\n",
       "    }\n",
       "\n",
       "    .dataframe thead th {\n",
       "        text-align: right;\n",
       "    }\n",
       "</style>\n",
       "<table border=\"1\" class=\"dataframe\">\n",
       "  <thead>\n",
       "    <tr style=\"text-align: right;\">\n",
       "      <th></th>\n",
       "      <th>Detail of Gifts</th>\n",
       "      <th>Item Category</th>\n",
       "      <th>Affiliation</th>\n",
       "      <th>Date</th>\n",
       "      <th>Assessed Value</th>\n",
       "      <th>Retention Cost</th>\n",
       "      <th>Retained</th>\n",
       "      <th>Remarks</th>\n",
       "      <th>Recipient</th>\n",
       "      <th>Office</th>\n",
       "    </tr>\n",
       "  </thead>\n",
       "  <tbody>\n",
       "    <tr>\n",
       "      <th>0</th>\n",
       "      <td>Two  small  silver Bowls</td>\n",
       "      <td>Decoration Pieces</td>\n",
       "      <td>Gen. Musharrafarraf</td>\n",
       "      <td>1/8/2002</td>\n",
       "      <td>5000.0</td>\n",
       "      <td>0.0</td>\n",
       "      <td>Yes</td>\n",
       "      <td>Yes</td>\n",
       "      <td>Mr.  Abdul  Sattar</td>\n",
       "      <td>Minister  for  Foreign Affairs</td>\n",
       "    </tr>\n",
       "    <tr>\n",
       "      <th>1</th>\n",
       "      <td>One Pilot Pen with ink</td>\n",
       "      <td>Pen</td>\n",
       "      <td>Gen. Musharraf</td>\n",
       "      <td>1/8/2002</td>\n",
       "      <td>3500.0</td>\n",
       "      <td>0.0</td>\n",
       "      <td>Yes</td>\n",
       "      <td>Yes</td>\n",
       "      <td>Mr.  Abdul  Sattar</td>\n",
       "      <td>Minister  for  Foreign Affairs</td>\n",
       "    </tr>\n",
       "    <tr>\n",
       "      <th>2</th>\n",
       "      <td>One silver vase</td>\n",
       "      <td>Decoration Pieces</td>\n",
       "      <td>Gen. Musharraf</td>\n",
       "      <td>1/9/2002</td>\n",
       "      <td>7500.0</td>\n",
       "      <td>0.0</td>\n",
       "      <td>Yes</td>\n",
       "      <td>Yes</td>\n",
       "      <td>Mr. Shaukat Aziz</td>\n",
       "      <td>Minister for Finance</td>\n",
       "    </tr>\n",
       "    <tr>\n",
       "      <th>3</th>\n",
       "      <td>One  (decoration) folding Screen</td>\n",
       "      <td>Decoration Pieces</td>\n",
       "      <td>Gen. Musharraf</td>\n",
       "      <td>1/15/2002</td>\n",
       "      <td>2200.0</td>\n",
       "      <td>0.0</td>\n",
       "      <td>Yes</td>\n",
       "      <td>Yes</td>\n",
       "      <td>Mr.  Abdul Sattar</td>\n",
       "      <td>Minister  for  Foreign Affairs</td>\n",
       "    </tr>\n",
       "    <tr>\n",
       "      <th>4</th>\n",
       "      <td>One  Decoration Piece</td>\n",
       "      <td>Decoration Pieces</td>\n",
       "      <td>Gen. Musharraf</td>\n",
       "      <td>1/22/2002</td>\n",
       "      <td>2000.0</td>\n",
       "      <td>0.0</td>\n",
       "      <td>Yes</td>\n",
       "      <td>Yes</td>\n",
       "      <td>Mr.  Abdul  Sattar</td>\n",
       "      <td>Minister  for  Foreign Affairs</td>\n",
       "    </tr>\n",
       "    <tr>\n",
       "      <th>5</th>\n",
       "      <td>One gown</td>\n",
       "      <td>Clothes</td>\n",
       "      <td>Gen. Musharraf</td>\n",
       "      <td>1/26/2002</td>\n",
       "      <td>2500.0</td>\n",
       "      <td>0.0</td>\n",
       "      <td>Yes</td>\n",
       "      <td>Yes</td>\n",
       "      <td>Mr.  Ahmed  Waqar</td>\n",
       "      <td>Secretary Privatization Commission</td>\n",
       "    </tr>\n",
       "    <tr>\n",
       "      <th>6</th>\n",
       "      <td>One  Coffee  Set (07 pcs)</td>\n",
       "      <td>Crockery</td>\n",
       "      <td>Gen. Musharraf</td>\n",
       "      <td>1/28/2002</td>\n",
       "      <td>1800.0</td>\n",
       "      <td>0.0</td>\n",
       "      <td>Yes</td>\n",
       "      <td>Yes</td>\n",
       "      <td>Mr.  Abdul  Sattar</td>\n",
       "      <td>Minister  for  Foreign Affairs</td>\n",
       "    </tr>\n",
       "    <tr>\n",
       "      <th>7</th>\n",
       "      <td>Art  glass decoration piece</td>\n",
       "      <td>Decoration Pieces</td>\n",
       "      <td>Gen. Musharraf</td>\n",
       "      <td>2/1/2002</td>\n",
       "      <td>1200.0</td>\n",
       "      <td>0.0</td>\n",
       "      <td>Yes</td>\n",
       "      <td>Yes</td>\n",
       "      <td>Mr. Shaukat Aziz</td>\n",
       "      <td>Minister for Finance</td>\n",
       "    </tr>\n",
       "    <tr>\n",
       "      <th>8</th>\n",
       "      <td>One  leather  black colour wallet</td>\n",
       "      <td>Decoration Pieces</td>\n",
       "      <td>Gen. Musharraf</td>\n",
       "      <td>2/4/2002</td>\n",
       "      <td>150.0</td>\n",
       "      <td>0.0</td>\n",
       "      <td>Auctioned</td>\n",
       "      <td>Auctioned for Rs.500/-</td>\n",
       "      <td>Dr.  Tariq  Hassan</td>\n",
       "      <td>Advisor  to  Finance Minister</td>\n",
       "    </tr>\n",
       "    <tr>\n",
       "      <th>9</th>\n",
       "      <td>One  Pen  Stand fitted with clock</td>\n",
       "      <td>Pen</td>\n",
       "      <td>Gen. Musharraf</td>\n",
       "      <td>2/6/2002</td>\n",
       "      <td>550.0</td>\n",
       "      <td>0.0</td>\n",
       "      <td>Auctioned</td>\n",
       "      <td>Auctioned for Rs.305/-</td>\n",
       "      <td>Mr.  Altaf  M.  Saleem</td>\n",
       "      <td>Minster  for Privatization</td>\n",
       "    </tr>\n",
       "  </tbody>\n",
       "</table>\n",
       "</div>"
      ],
      "text/plain": [
       "                     Detail of Gifts      Item Category          Affiliation  \\\n",
       "0           Two  small  silver Bowls  Decoration Pieces  Gen. Musharrafarraf   \n",
       "1             One Pilot Pen with ink                Pen       Gen. Musharraf   \n",
       "2                    One silver vase  Decoration Pieces       Gen. Musharraf   \n",
       "3   One  (decoration) folding Screen  Decoration Pieces       Gen. Musharraf   \n",
       "4              One  Decoration Piece  Decoration Pieces       Gen. Musharraf   \n",
       "5                           One gown            Clothes       Gen. Musharraf   \n",
       "6          One  Coffee  Set (07 pcs)           Crockery       Gen. Musharraf   \n",
       "7        Art  glass decoration piece  Decoration Pieces       Gen. Musharraf   \n",
       "8  One  leather  black colour wallet  Decoration Pieces       Gen. Musharraf   \n",
       "9  One  Pen  Stand fitted with clock                Pen       Gen. Musharraf   \n",
       "\n",
       "        Date  Assessed Value  Retention Cost   Retained  \\\n",
       "0   1/8/2002          5000.0             0.0        Yes   \n",
       "1   1/8/2002          3500.0             0.0        Yes   \n",
       "2   1/9/2002          7500.0             0.0        Yes   \n",
       "3  1/15/2002          2200.0             0.0        Yes   \n",
       "4  1/22/2002          2000.0             0.0        Yes   \n",
       "5  1/26/2002          2500.0             0.0        Yes   \n",
       "6  1/28/2002          1800.0             0.0        Yes   \n",
       "7   2/1/2002          1200.0             0.0        Yes   \n",
       "8   2/4/2002           150.0             0.0  Auctioned   \n",
       "9   2/6/2002           550.0             0.0  Auctioned   \n",
       "\n",
       "                  Remarks               Recipient  \\\n",
       "0                     Yes      Mr.  Abdul  Sattar   \n",
       "1                     Yes      Mr.  Abdul  Sattar   \n",
       "2                     Yes        Mr. Shaukat Aziz   \n",
       "3                     Yes       Mr.  Abdul Sattar   \n",
       "4                     Yes      Mr.  Abdul  Sattar   \n",
       "5                     Yes       Mr.  Ahmed  Waqar   \n",
       "6                     Yes      Mr.  Abdul  Sattar   \n",
       "7                     Yes        Mr. Shaukat Aziz   \n",
       "8  Auctioned for Rs.500/-      Dr.  Tariq  Hassan   \n",
       "9  Auctioned for Rs.305/-  Mr.  Altaf  M.  Saleem   \n",
       "\n",
       "                               Office  \n",
       "0      Minister  for  Foreign Affairs  \n",
       "1      Minister  for  Foreign Affairs  \n",
       "2                Minister for Finance  \n",
       "3      Minister  for  Foreign Affairs  \n",
       "4      Minister  for  Foreign Affairs  \n",
       "5  Secretary Privatization Commission  \n",
       "6      Minister  for  Foreign Affairs  \n",
       "7                Minister for Finance  \n",
       "8       Advisor  to  Finance Minister  \n",
       "9          Minster  for Privatization  "
      ]
     },
     "execution_count": 12,
     "metadata": {},
     "output_type": "execute_result"
    }
   ],
   "source": [
    "tosha_df['Office']=tosha_df['Office'].str.replace('\\n', ' ')\n",
    "tosha_df['Recipient']=tosha_df['Recipient'].str.replace('\\n',' ')\n",
    "tosha_df[\"Detail of Gifts\"]=tosha_df['Detail of Gifts'].str.replace('\\n', ' ')\n",
    "tosha_df[\"Detail of Gifts\"]=tosha_df['Detail of Gifts'].str.strip()\n",
    "tosha_df['Recipient']=tosha_df['Recipient'].str.strip()\n",
    "tosha_df['Office']=tosha_df['Office'].str.strip()\n",
    "# replace any '\\n' with ' ' with regular expressions\n",
    "tosha_df=tosha_df.replace('\\n',' ',regex=True)\n",
    "\n",
    "tosha_df.head(10)"
   ]
  },
  {
   "cell_type": "markdown",
   "id": "c9546571",
   "metadata": {
    "papermill": {
     "duration": 0.005571,
     "end_time": "2023-03-28T17:08:35.570250",
     "exception": false,
     "start_time": "2023-03-28T17:08:35.564679",
     "status": "completed"
    },
    "tags": []
   },
   "source": [
    "Inconsistencies in values like 'Mr.  Asif  Ali  Zardari', 'President of Pakistan', 'Prime Minister of Pakistan'"
   ]
  },
  {
   "cell_type": "code",
   "execution_count": 13,
   "id": "6c654117",
   "metadata": {
    "execution": {
     "iopub.execute_input": "2023-03-28T17:08:35.582672Z",
     "iopub.status.busy": "2023-03-28T17:08:35.582372Z",
     "iopub.status.idle": "2023-03-28T17:08:35.595354Z",
     "shell.execute_reply": "2023-03-28T17:08:35.594123Z"
    },
    "papermill": {
     "duration": 0.022088,
     "end_time": "2023-03-28T17:08:35.597748",
     "exception": false,
     "start_time": "2023-03-28T17:08:35.575660",
     "status": "completed"
    },
    "tags": []
   },
   "outputs": [
    {
     "name": "stdout",
     "output_type": "stream",
     "text": [
      "names:\n",
      " Mr.  Shaukat  Aziz                     774\n",
      "Mr.  Asif  Ali  Zardari                167\n",
      "Mr.  Khurshid  M.  Kasuri              103\n",
      "Mr.  Imran  Khan                        82\n",
      "Mir  Zafarullah  Khan Jamali            71\n",
      "                                      ... \n",
      "Mr.  Munir  Khan Orakzai                 1\n",
      "Mr  Asif  Ali  Zardari                   1\n",
      "Mr.  Zafar  Mehmood                      1\n",
      "Ms.  Nuzhat  Sadiq                       1\n",
      "Military  Secretary  to  the  Prime      1\n",
      "Name: Recipient, Length: 1589, dtype: int64\n",
      "Office:\n",
      " Prime Minister of Pakistan                          854\n",
      "President of Pakistan                               273\n",
      "Prime  Minister  of Pakistan                        119\n",
      "Foreign Minister                                     88\n",
      "President  of Pakistan                               74\n",
      "                                                   ... \n",
      "Former Prime Minister of Pakistan                     1\n",
      "Advisor  to  Prime                                    1\n",
      "Security Official                                     1\n",
      "Security Officer,                                     1\n",
      "Chief Security  Officer  to  the  Prime Minister      1\n",
      "Name: Office, Length: 1486, dtype: int64\n",
      "Affiliation:\n",
      " Other/s                1004\n",
      "Military                734\n",
      "Gen. Musharraf          578\n",
      "Gen Mus                 573\n",
      "Bureaucracy             298\n",
      "PTI                     258\n",
      "PMLN                    256\n",
      "PPP                     249\n",
      "Media                   121\n",
      "Police                  119\n",
      "Judiciary                 9\n",
      "MMA                       2\n",
      "Gen. Musharrafarraf       1\n",
      "Name: Affiliation, dtype: int64\n"
     ]
    }
   ],
   "source": [
    "print('names:\\n',tosha_df[\"Recipient\"].value_counts())\n",
    "print('Office:\\n',tosha_df[\"Office\"].value_counts())\n",
    "print('Affiliation:\\n',tosha_df[\"Affiliation\"].value_counts())"
   ]
  },
  {
   "cell_type": "code",
   "execution_count": 14,
   "id": "c58f3056",
   "metadata": {
    "execution": {
     "iopub.execute_input": "2023-03-28T17:08:35.610605Z",
     "iopub.status.busy": "2023-03-28T17:08:35.610290Z",
     "iopub.status.idle": "2023-03-28T17:08:35.676974Z",
     "shell.execute_reply": "2023-03-28T17:08:35.674691Z"
    },
    "papermill": {
     "duration": 0.076689,
     "end_time": "2023-03-28T17:08:35.680339",
     "exception": false,
     "start_time": "2023-03-28T17:08:35.603650",
     "status": "completed"
    },
    "tags": []
   },
   "outputs": [
    {
     "name": "stdout",
     "output_type": "stream",
     "text": [
      "names:\n",
      " Mr. Shaukat Aziz                   815\n",
      "Mr. Asif Ali Zardari               170\n",
      "Mr. Khurshid M. Kasuri             104\n",
      "Dr. Arif Alvi                       99\n",
      "Mr. Imran Khan                      85\n",
      "                                  ... \n",
      "Sep. M. Habib Sultan                 1\n",
      "Hav. Sabz Ali Khan                   1\n",
      "Mr. Amjad Mehmood                    1\n",
      "Mr. Sohail Ali Khan                  1\n",
      "Military Secretary to the Prime      1\n",
      "Name: Recipient, Length: 1429, dtype: int64\n",
      "Office:\n",
      " Prime Minister of Pakistan           992\n",
      "President of Pakistan                347\n",
      "Foreign Minister                      88\n",
      "Finance Minister                      73\n",
      "Chairman Senate                       68\n",
      "                                    ... \n",
      "Security Official                      1\n",
      "Advisor to Prime                       1\n",
      "Former Prime Minister of Pakistan      1\n",
      "DMS (P), President Sectt.              1\n",
      "Deputy Secretary (CF-I)                1\n",
      "Name: Office, Length: 1303, dtype: int64\n",
      "Affiliation:\n",
      " Other/s                1004\n",
      "Military                734\n",
      "Gen. Musharraf          578\n",
      "Gen Mus                 573\n",
      "Bureaucracy             298\n",
      "PTI                     258\n",
      "PMLN                    256\n",
      "PPP                     249\n",
      "Media                   121\n",
      "Police                  119\n",
      "Judiciary                 9\n",
      "MMA                       2\n",
      "Gen. Musharrafarraf       1\n",
      "Name: Affiliation, dtype: int64\n",
      "Remarks:\n",
      " Yes                                                                              3730\n",
      "No                                                                                183\n",
      "Amount                                                                             20\n",
      "Displayed at PM House                                                              12\n",
      "Displayed at Prime Minister House                                                   9\n",
      "                                                                                 ... \n",
      "Auctioned for Rs.17,200/-                                                           1\n",
      "Auctioned for Rs.35,500/- (each)                                                    1\n",
      "Auctioned for Rs.211,000/-                                                          1\n",
      "Auctioned for Rs.1,200/-                                                            1\n",
      "S.No.(a) displayed at Prime Minister House S.No.(b-f) deposited in Toshakhana       1\n",
      "Name: Remarks, Length: 222, dtype: int64\n",
      "Retained:\n",
      " Yes                                                                                                        3730\n",
      "No                                                                                                          183\n",
      "Auctioned                                                                                                   163\n",
      "Amount                                                                                                       19\n",
      "Displayed at PM House                                                                                        12\n",
      "                                                                                                           ... \n",
      "Displayed at PM house                                                                                         1\n",
      "(a) Pair of Lump Stand display at Army Museum (b) Two Books transferred to National Library of Pakistan       1\n",
      "Gifts displayed at PM House                                                                                   1\n",
      "Gift deposited in TK                                                                                          1\n",
      "S.No.(a) displayed at Prime Minister House S.No.(b-f) deposited in Toshakhana                                 1\n",
      "Name: Retained, Length: 68, dtype: int64\n",
      "Catagories:\n",
      " Watch                         1102\n",
      "Decoration Pieces              553\n",
      "Carpet                         243\n",
      "Pen                            119\n",
      "Crockery                       107\n",
      "Jewellery/Accessories           50\n",
      "Phone                           34\n",
      "Cigar/Cigarettes                34\n",
      "Weapons                         27\n",
      "Clothes                         26\n",
      "Bags                            12\n",
      "Food                            11\n",
      "Tech                             8\n",
      "Watch, Weapons                   2\n",
      "Watch, phone                     1\n",
      "Technology                       1\n",
      "Watch, Tech                      1\n",
      "Clock                            1\n",
      "Jewellery, Weapons               1\n",
      "Bag, Jewellery/Accessories       1\n",
      "Pen, Jewelry                     1\n",
      "Tech, pen                        1\n",
      "Name: Item Category, dtype: int64\n"
     ]
    }
   ],
   "source": [
    "tosha_df=tosha_df.replace('  ',' ',regex=True)\n",
    "tosha_df=tosha_df.replace('Mr ','Mr.')\n",
    "print('names:\\n',tosha_df[\"Recipient\"].value_counts())\n",
    "print('Office:\\n',tosha_df[\"Office\"].value_counts())\n",
    "print('Affiliation:\\n',tosha_df[\"Affiliation\"].value_counts())\n",
    "print('Remarks:\\n',tosha_df['Remarks'].value_counts())\n",
    "print('Retained:\\n',tosha_df['Retained'].value_counts())\n",
    "print('Catagories:\\n',tosha_df['Item Category'].value_counts())"
   ]
  },
  {
   "cell_type": "markdown",
   "id": "064a9e7f",
   "metadata": {
    "papermill": {
     "duration": 0.005709,
     "end_time": "2023-03-28T17:08:35.692281",
     "exception": false,
     "start_time": "2023-03-28T17:08:35.686572",
     "status": "completed"
    },
    "tags": []
   },
   "source": []
  },
  {
   "cell_type": "code",
   "execution_count": 15,
   "id": "f7b96188",
   "metadata": {
    "execution": {
     "iopub.execute_input": "2023-03-28T17:08:35.704878Z",
     "iopub.status.busy": "2023-03-28T17:08:35.704583Z",
     "iopub.status.idle": "2023-03-28T17:08:35.728273Z",
     "shell.execute_reply": "2023-03-28T17:08:35.727148Z"
    },
    "papermill": {
     "duration": 0.033012,
     "end_time": "2023-03-28T17:08:35.730906",
     "exception": false,
     "start_time": "2023-03-28T17:08:35.697894",
     "status": "completed"
    },
    "tags": []
   },
   "outputs": [],
   "source": [
    "tosha_df.to_csv('cleaned-tosha-df-v1.csv',index=False)"
   ]
  },
  {
   "cell_type": "code",
   "execution_count": null,
   "id": "a4e8c578",
   "metadata": {
    "papermill": {
     "duration": 0.005759,
     "end_time": "2023-03-28T17:08:35.742419",
     "exception": false,
     "start_time": "2023-03-28T17:08:35.736660",
     "status": "completed"
    },
    "tags": []
   },
   "outputs": [],
   "source": []
  }
 ],
 "metadata": {
  "kernelspec": {
   "display_name": "Python 3",
   "language": "python",
   "name": "python3"
  },
  "language_info": {
   "codemirror_mode": {
    "name": "ipython",
    "version": 3
   },
   "file_extension": ".py",
   "mimetype": "text/x-python",
   "name": "python",
   "nbconvert_exporter": "python",
   "pygments_lexer": "ipython3",
   "version": "3.7.12"
  },
  "papermill": {
   "default_parameters": {},
   "duration": 10.95209,
   "end_time": "2023-03-28T17:08:36.267774",
   "environment_variables": {},
   "exception": null,
   "input_path": "__notebook__.ipynb",
   "output_path": "__notebook__.ipynb",
   "parameters": {},
   "start_time": "2023-03-28T17:08:25.315684",
   "version": "2.4.0"
  }
 },
 "nbformat": 4,
 "nbformat_minor": 5
}
